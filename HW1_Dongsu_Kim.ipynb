{
  "nbformat": 4,
  "nbformat_minor": 0,
  "metadata": {
    "colab": {
      "name": "HW1 Dongsu Kim",
      "provenance": [],
      "collapsed_sections": [],
      "authorship_tag": "ABX9TyPTnFekNVg1arFM/R36C0S2",
      "include_colab_link": true
    },
    "kernelspec": {
      "name": "python3",
      "display_name": "Python 3"
    },
    "language_info": {
      "name": "python"
    }
  },
  "cells": [
    {
      "cell_type": "markdown",
      "metadata": {
        "id": "view-in-github",
        "colab_type": "text"
      },
      "source": [
        "<a href=\"https://colab.research.google.com/github/DreeeamBoard/MachineLearning/blob/main/HW1_Dongsu_Kim.ipynb\" target=\"_parent\"><img src=\"https://colab.research.google.com/assets/colab-badge.svg\" alt=\"Open In Colab\"/></a>"
      ]
    },
    {
      "cell_type": "markdown",
      "source": [
        "# 1. Regression problem (Boston housing dataset)\n",
        "### build the regression models using linear regression, ridge, lasso, and support vector regression.  Try to optimize your models by adjusting hyper-parameters. \n",
        "\n",
        "## 1-0) Preparation"
      ],
      "metadata": {
        "id": "4Ud8Cv5lY5dL"
      }
    },
    {
      "cell_type": "code",
      "source": [
        "# Import necessary libraries\n",
        "from sklearn.datasets import load_boston, load_breast_cancer\n",
        "from sklearn.pipeline import Pipeline\n",
        "from sklearn.linear_model import LinearRegression, Ridge, Lasso\n",
        "from sklearn.linear_model import LogisticRegression\n",
        "from sklearn.svm import SVC\n",
        "from sklearn.preprocessing import StandardScaler\n",
        "from sklearn.model_selection import train_test_split\n",
        "from sklearn.metrics import mean_squared_error, accuracy_score, roc_auc_score\n",
        "import numpy as np\n",
        "from matplotlib import pyplot as plt"
      ],
      "metadata": {
        "id": "ykvoZYcICKEt"
      },
      "execution_count": null,
      "outputs": []
    },
    {
      "cell_type": "code",
      "source": [
        "# get Boston housing dataset\n",
        "import warnings\n",
        "with warnings.catch_warnings():\n",
        "     # You should probably not use this dataset.\n",
        "     warnings.filterwarnings(\"ignore\")\n",
        "     X, y = load_boston(return_X_y=True)"
      ],
      "metadata": {
        "id": "kW6YcP7DrsIX"
      },
      "execution_count": null,
      "outputs": []
    },
    {
      "cell_type": "code",
      "source": [
        "# Let's look at how X and y look like\n",
        "print(\"X.shape :\", X.shape, \"y.shape :\",y.shape)\n",
        "\n",
        "# Splitting data into train and test set - 8:2\n",
        "X_train, X_test, y_train, y_test = train_test_split(X,\n",
        "                                                    y,\n",
        "                                                    test_size=0.2,\n",
        "                                                    shuffle=True,\n",
        "                                                    random_state=12)"
      ],
      "metadata": {
        "colab": {
          "base_uri": "https://localhost:8080/"
        },
        "id": "FjgYZEhArX1x",
        "outputId": "9fba96e9-d1ef-484c-e58d-e8909d5680ba"
      },
      "execution_count": null,
      "outputs": [
        {
          "output_type": "stream",
          "name": "stdout",
          "text": [
            "X.shape : (506, 13) y.shape : (506,)\n"
          ]
        }
      ]
    },
    {
      "cell_type": "markdown",
      "source": [
        "## 1-1) Linear regression"
      ],
      "metadata": {
        "id": "cWQEVGO6ZCi6"
      }
    },
    {
      "cell_type": "code",
      "source": [
        "# Apply StandardScaler through Pipeline\n",
        "lin_reg = Pipeline([\n",
        "                       (\"scaler\", StandardScaler()),\n",
        "                       (\"linear_reg\", LinearRegression())\n",
        "])\n",
        "\n",
        "# Linear regression fit\n",
        "lin_reg.fit(X_train, y_train)\n",
        "y_test_predict = lin_reg.predict(X_test)\n",
        "\n",
        "print(\"Test set MSE : \", np.round(mean_squared_error(y_test, y_test_predict),3))"
      ],
      "metadata": {
        "colab": {
          "base_uri": "https://localhost:8080/"
        },
        "id": "F3hkSV73CkoJ",
        "outputId": "12237ccd-9205-4671-bc5d-e2ee74e589a2"
      },
      "execution_count": null,
      "outputs": [
        {
          "output_type": "stream",
          "name": "stdout",
          "text": [
            "Test set MSE :  20.558\n"
          ]
        }
      ]
    },
    {
      "cell_type": "markdown",
      "source": [
        "## 1-2) Ridge regression"
      ],
      "metadata": {
        "id": "VFvOTDBzZZlV"
      }
    },
    {
      "cell_type": "code",
      "source": [
        "# Apply StandardScaler through Pipeline\n",
        "ridge_reg = Pipeline([\n",
        "                      (\"scaler\", StandardScaler()),\n",
        "                      (\"ridge_reg\", Ridge(alpha=1)) # First, let alpha = 1\n",
        "])\n",
        "\n",
        "# Ridge regression fit\n",
        "ridge_reg.fit(X_train, y_train)\n",
        "y_test_predict = ridge_reg.predict(X_test)\n",
        "\n",
        "print(\"Test set MSE : \", np.round(mean_squared_error(y_test, y_test_predict),3))"
      ],
      "metadata": {
        "colab": {
          "base_uri": "https://localhost:8080/"
        },
        "id": "DYznN0loWFnx",
        "outputId": "8ddeb7fa-75ec-4969-f8a4-4cfb3cdc2b4e"
      },
      "execution_count": null,
      "outputs": [
        {
          "output_type": "stream",
          "name": "stdout",
          "text": [
            "Test set MSE :  20.536\n"
          ]
        }
      ]
    },
    {
      "cell_type": "markdown",
      "source": [
        "## Let's look at how MSE changes as we tweak **alpha value**\n"
      ],
      "metadata": {
        "id": "54KE6Xu-nmg5"
      }
    },
    {
      "cell_type": "code",
      "source": [
        "alphas = [0, 0.0001, 0.001, 0.1, 1, 10, 50]\n",
        "mse_score_list = []\n",
        "for alpha in alphas :\n",
        "  ridge_reg = Pipeline([\n",
        "                      (\"scaler\", StandardScaler()),\n",
        "                      (\"ridge_reg\", Ridge(alpha=alpha))\n",
        "])\n",
        "  ridge_reg.fit(X_train, y_train)\n",
        "\n",
        "  y_test_predict = ridge_reg.predict(X_test)\n",
        "  print(\"when alpha is {0}, Test set MSE : {1:.3f}\".format(alpha, np.round(mean_squared_error(y_test, y_test_predict),3)))\n",
        "  mse_score_list.append(np.round(mean_squared_error(y_test, y_test_predict),3)) # make mse value list\n",
        "  \n",
        "plt.plot(alphas, mse_score_list, marker='o')\n",
        "plt.title('score value as we tweak alpha')\n",
        "plt.xlabel('alpha')\n",
        "plt.ylabel('mse value')\n",
        "plt.show()"
      ],
      "metadata": {
        "colab": {
          "base_uri": "https://localhost:8080/",
          "height": 422
        },
        "id": "wE7sEKTMk4GP",
        "outputId": "f1654443-73b3-4801-a73b-c7211ee268d4"
      },
      "execution_count": null,
      "outputs": [
        {
          "output_type": "stream",
          "name": "stdout",
          "text": [
            "when alpha is 0, Test set MSE : 20.558\n",
            "when alpha is 0.0001, Test set MSE : 20.558\n",
            "when alpha is 0.001, Test set MSE : 20.558\n",
            "when alpha is 0.1, Test set MSE : 20.556\n",
            "when alpha is 1, Test set MSE : 20.536\n",
            "when alpha is 10, Test set MSE : 20.470\n",
            "when alpha is 50, Test set MSE : 21.008\n"
          ]
        },
        {
          "output_type": "display_data",
          "data": {
            "text/plain": [
              "<Figure size 432x288 with 1 Axes>"
            ],
            "image/png": "[encoded data removed]"
          },
          "metadata": {
            "needs_background": "light"
          }
        }
      ]
    },
    {
      "cell_type": "markdown",
      "source": [
        "## Among the alpha values above, MSE is the lowest when alpha is 10"
      ],
      "metadata": {
        "id": "rh4rGmWInt3Z"
      }
    },
    {
      "cell_type": "markdown",
      "source": [
        "## 1-3) Lasso regression"
      ],
      "metadata": {
        "id": "bgmg9z7dZg4j"
      }
    },
    {
      "cell_type": "code",
      "source": [
        "# Apply StandardScaler through Pipeline\n",
        "lasso_reg = Pipeline([\n",
        "           (\"scaler\", StandardScaler()),\n",
        "           (\"lasso_reg\", Lasso(alpha=0.1)) # First, let alpha = 0.1\n",
        "])\n",
        "\n",
        "# Lasso regression fit\n",
        "lasso_reg.fit(X_train, y_train)\n",
        "y_test_predict = lasso_reg.predict(X_test)\n",
        "\n",
        "print(\"Test set MSE : \", np.round(mean_squared_error(y_test, y_test_predict),3))"
      ],
      "metadata": {
        "colab": {
          "base_uri": "https://localhost:8080/"
        },
        "id": "vbL8WTDBZjFf",
        "outputId": "78dad593-632d-4808-b811-54f7caa5a8ab"
      },
      "execution_count": null,
      "outputs": [
        {
          "output_type": "stream",
          "name": "stdout",
          "text": [
            "Test set MSE :  20.5\n"
          ]
        }
      ]
    },
    {
      "cell_type": "markdown",
      "source": [
        "## Let's look at how MSE changes as we tweak alpha value\n"
      ],
      "metadata": {
        "id": "5ANR5ghcpU_w"
      }
    },
    {
      "cell_type": "code",
      "source": [
        "alphas = [0, 0.0001, 0.001, 0.1, 1]\n",
        "mse_score_list = []\n",
        "for alpha in alphas :\n",
        "  lasso_reg = Pipeline([\n",
        "                      (\"scaler\", StandardScaler()),\n",
        "                      (\"lasso_reg\", Lasso(alpha=alpha))\n",
        "])\n",
        "  lasso_reg.fit(X_train, y_train)\n",
        "\n",
        "  y_test_predict = lasso_reg.predict(X_test)\n",
        "  print(\"when alpha is {0}, Test set MSE : {1:.3f}\".format(alpha, np.round(mean_squared_error(y_test, y_test_predict),3)))\n",
        "  mse_score_list.append(np.round(mean_squared_error(y_test, y_test_predict),3)) # make mse value list\n",
        "  \n",
        "plt.plot(alphas, mse_score_list, marker='o')\n",
        "plt.title('score value as we tweak alpha')\n",
        "plt.xlabel('alpha')\n",
        "plt.ylabel('mse value')\n",
        "plt.ylim(20, 22)\n",
        "plt.show()"
      ],
      "metadata": {
        "colab": {
          "base_uri": "https://localhost:8080/",
          "height": 516
        },
        "id": "G8ZTEBfLopIn",
        "outputId": "05ae4be4-7208-4dad-8d6e-b1409ac10ce2"
      },
      "execution_count": null,
      "outputs": [
        {
          "output_type": "stream",
          "name": "stdout",
          "text": [
            "when alpha is 0, Test set MSE : 20.558\n",
            "when alpha is 0.0001, Test set MSE : 20.557\n",
            "when alpha is 0.001, Test set MSE : 20.552\n",
            "when alpha is 0.1, Test set MSE : 20.500\n",
            "when alpha is 1, Test set MSE : 26.962\n"
          ]
        },
        {
          "output_type": "stream",
          "name": "stderr",
          "text": [
            "/usr/local/lib/python3.7/dist-packages/sklearn/pipeline.py:394: UserWarning: With alpha=0, this algorithm does not converge well. You are advised to use the LinearRegression estimator\n",
            "  self._final_estimator.fit(Xt, y, **fit_params_last_step)\n",
            "/usr/local/lib/python3.7/dist-packages/sklearn/linear_model/_coordinate_descent.py:648: UserWarning: Coordinate descent with no regularization may lead to unexpected results and is discouraged.\n",
            "  coef_, l1_reg, l2_reg, X, y, max_iter, tol, rng, random, positive\n",
            "/usr/local/lib/python3.7/dist-packages/sklearn/linear_model/_coordinate_descent.py:648: ConvergenceWarning: Objective did not converge. You might want to increase the number of iterations, check the scale of the features or consider increasing regularisation. Duality gap: 4.530e+03, tolerance: 3.434e+00 Linear regression models with null weight for the l1 regularization term are more efficiently fitted using one of the solvers implemented in sklearn.linear_model.Ridge/RidgeCV instead.\n",
            "  coef_, l1_reg, l2_reg, X, y, max_iter, tol, rng, random, positive\n"
          ]
        },
        {
          "output_type": "display_data",
          "data": {
            "text/plain": [
              "<Figure size 432x288 with 1 Axes>"
            ],
            "image/png": "[encoded data removed]"
          },
          "metadata": {
            "needs_background": "light"
          }
        }
      ]
    },
    {
      "cell_type": "markdown",
      "source": [
        "## Among the alpha values above, MSE is the lowest when alpha is 0.1"
      ],
      "metadata": {
        "id": "gZjlFtA0pOrz"
      }
    },
    {
      "cell_type": "markdown",
      "source": [
        "## 1-4) Support vector regression"
      ],
      "metadata": {
        "id": "NuvRHy9_Zjly"
      }
    },
    {
      "cell_type": "code",
      "source": [
        "from sklearn.svm import SVR\n",
        "\n",
        "# Apply StandardScaler through Pipeline\n",
        "sv_reg = Pipeline([\n",
        "                   (\"scaler\", StandardScaler()),\n",
        "                   (\"support vector regression\", SVR(kernel=\"poly\", degree=2, C=100, epsilon=0.1)) # let C = 100\n",
        "])\n",
        "\n",
        "# Support vector regression fit\n",
        "sv_reg.fit(X_train, y_train)\n",
        "y_test_predict = sv_reg.predict(X_test)\n",
        "\n",
        "print(\"Test set MSE : \", np.round(mean_squared_error(y_test, y_test_predict),3))"
      ],
      "metadata": {
        "colab": {
          "base_uri": "https://localhost:8080/"
        },
        "id": "N6CR8uwkpukg",
        "outputId": "908eccfc-0fdd-4dba-e7b3-06459305dbe5"
      },
      "execution_count": null,
      "outputs": [
        {
          "output_type": "stream",
          "name": "stdout",
          "text": [
            "Test set MSE :  28.14\n"
          ]
        }
      ]
    },
    {
      "cell_type": "markdown",
      "source": [
        "## Let's look at how MSE changes as we tweak C value"
      ],
      "metadata": {
        "id": "uJR97949p-GL"
      }
    },
    {
      "cell_type": "code",
      "source": [
        "C_values = [0.0001, 0.001, 0.1, 1, 10, 50]\n",
        "mse_score_list = []\n",
        "\n",
        "for C_value in C_values :\n",
        "  sv_reg = Pipeline([\n",
        "                   (\"scaler\", StandardScaler()),\n",
        "                   (\"support vector regression\", SVR(kernel=\"poly\", degree=2, C=C_value, epsilon=0.1))\n",
        "])\n",
        "  sv_reg.fit(X_train, y_train)\n",
        "\n",
        "  y_test_predict = sv_reg.predict(X_test)\n",
        "  print(\"when C is {0}, Test set MSE : {1:.3f}\".format(C_value, np.round(mean_squared_error(y_test, y_test_predict),3)))\n",
        "  mse_score_list.append(np.round(mean_squared_error(y_test, y_test_predict),3)) # make mse value list\n",
        "  \n",
        "plt.plot(C_values, mse_score_list, marker='o')\n",
        "plt.title('score value as we tweak C_value')\n",
        "plt.xlabel('C_value')\n",
        "plt.ylabel('mse value')\n",
        "plt.ylim(0, 40)\n",
        "plt.show()"
      ],
      "metadata": {
        "colab": {
          "base_uri": "https://localhost:8080/",
          "height": 405
        },
        "id": "MqiWzHSjp9cw",
        "outputId": "b20db412-18f3-460f-e3d2-09e5f30eb954"
      },
      "execution_count": null,
      "outputs": [
        {
          "output_type": "stream",
          "name": "stdout",
          "text": [
            "when C is 0.0001, Test set MSE : 87.402\n",
            "when C is 0.001, Test set MSE : 87.213\n",
            "when C is 0.1, Test set MSE : 70.947\n",
            "when C is 1, Test set MSE : 31.670\n",
            "when C is 10, Test set MSE : 25.662\n",
            "when C is 50, Test set MSE : 27.424\n"
          ]
        },
        {
          "output_type": "display_data",
          "data": {
            "text/plain": [
              "<Figure size 432x288 with 1 Axes>"
            ],
            "image/png": "[encoded data removed]"
          },
          "metadata": {
            "needs_background": "light"
          }
        }
      ]
    },
    {
      "cell_type": "markdown",
      "source": [
        "## Among the C values above, MSE is the lowest when C is 10"
      ],
      "metadata": {
        "id": "Pos58qwrrF2w"
      }
    },
    {
      "cell_type": "markdown",
      "source": [
        "# 2. Classification problem (Breast cancer dataset)\n",
        "#### build the classification models using logistic regression, linear svm, and svm with kernels.  Try to optimize your models by adjusting hyper-parameters.\n",
        "## 2-0) Preparation"
      ],
      "metadata": {
        "id": "hzPYGg1hgYYG"
      }
    },
    {
      "cell_type": "code",
      "source": [
        "# get Breast cancer dataset\n",
        "cancer = load_breast_cancer()\n",
        "X = cancer.data\n",
        "y = cancer.target"
      ],
      "metadata": {
        "id": "GBLUeHZcgdyS"
      },
      "execution_count": null,
      "outputs": []
    },
    {
      "cell_type": "code",
      "source": [
        "# Let's look at how X and y look like\n",
        "print(\"X.shape :\", X.shape, \"y.shape :\",y.shape)\n",
        "\n",
        "# Splitting data into train and test set - 8:2\n",
        "X_train, X_test, y_train, y_test = train_test_split(X,\n",
        "                                                    y,\n",
        "                                                    test_size=0.2,\n",
        "                                                    shuffle=True,\n",
        "                                                    random_state=12)"
      ],
      "metadata": {
        "colab": {
          "base_uri": "https://localhost:8080/"
        },
        "id": "wHlpQZj2rxMJ",
        "outputId": "2291a36e-bc85-4557-e30d-0f4ddd954b65"
      },
      "execution_count": null,
      "outputs": [
        {
          "output_type": "stream",
          "name": "stdout",
          "text": [
            "X.shape : (569, 30) y.shape : (569,)\n"
          ]
        }
      ]
    },
    {
      "cell_type": "markdown",
      "source": [
        "## 2-1) Logistic regression\n"
      ],
      "metadata": {
        "id": "C5YqZ6JLjuRk"
      }
    },
    {
      "cell_type": "code",
      "source": [
        "# Apply StandardScaler through Pipeline\n",
        "log_reg = Pipeline([\n",
        "           (\"scaler\", StandardScaler()),\n",
        "           (\"logistic_reg\", LogisticRegression())\n",
        "])\n",
        "\n",
        "# Logistic regression fit\n",
        "log_reg.fit(X_train, y_train)\n",
        "y_test_predict = log_reg.predict(X_test)\n",
        "\n",
        "\n",
        "print(\"Test set accuracy score : \", np.round(accuracy_score(y_test, y_test_predict),3))\n",
        "print(\"Test set roc_auc_score : \", np.round(roc_auc_score(y_test, y_test_predict),3))"
      ],
      "metadata": {
        "colab": {
          "base_uri": "https://localhost:8080/"
        },
        "id": "C3l7ExFQiLfO",
        "outputId": "b871057e-c4e3-4d24-b5f3-4f4419254bba"
      },
      "execution_count": null,
      "outputs": [
        {
          "output_type": "stream",
          "name": "stdout",
          "text": [
            "Test set accuracy score :  0.974\n",
            "Test set roc_auc_score :  0.969\n"
          ]
        }
      ]
    },
    {
      "cell_type": "markdown",
      "source": [
        "## 2-2) Linear svm"
      ],
      "metadata": {
        "id": "Z-8fdhDQjyQN"
      }
    },
    {
      "cell_type": "code",
      "source": [
        "from sklearn.svm import LinearSVC\n",
        "\n",
        "# Apply StandardScaler through Pipeline\n",
        "svm_clf = Pipeline([\n",
        "                    (\"scaler\", StandardScaler()),\n",
        "                    (\"linear_svc\", LinearSVC(C=1, loss=\"hinge\")) # let C = 1\n",
        "])\n",
        "\n",
        "# Linear svm fit\n",
        "svm_clf.fit(X_train, y_train)\n",
        "y_test_predict = svm_clf.predict(X_test)\n",
        "\n",
        "print(\"Test set accuracy score : \", np.round(accuracy_score(y_test, y_test_predict),3))\n",
        "print(\"Test set roc_auc_score : \", np.round(roc_auc_score(y_test, y_test_predict),3))"
      ],
      "metadata": {
        "colab": {
          "base_uri": "https://localhost:8080/"
        },
        "id": "7MHgc79znYn_",
        "outputId": "8d90fa52-3c7c-47a0-c262-26a11351c1b2"
      },
      "execution_count": null,
      "outputs": [
        {
          "output_type": "stream",
          "name": "stdout",
          "text": [
            "Test set accuracy score :  0.965\n",
            "Test set roc_auc_score :  0.958\n"
          ]
        }
      ]
    },
    {
      "cell_type": "markdown",
      "source": [
        "## Let's look at how score value changes as we tweak C value\n"
      ],
      "metadata": {
        "id": "NX3w4Ln0sWZ9"
      }
    },
    {
      "cell_type": "code",
      "source": [
        "C_values = [0.0001, 0.001, 0.1, 1]\n",
        "\n",
        "# for visualization\n",
        "accuracy_score_list = []\n",
        "roc_auc_score_list = []\n",
        "\n",
        "for C_value in C_values :\n",
        "  svm_clf = Pipeline([\n",
        "                    (\"scaler\", StandardScaler()),\n",
        "                    (\"linear_svc\", LinearSVC(C=C_value, loss=\"hinge\"))\n",
        "])\n",
        "  svm_clf.fit(X_train, y_train)\n",
        "\n",
        "  y_test_predict = svm_clf.predict(X_test)\n",
        "  print(\"when C is {0}, Test set accuracy score : {1:.3f}, roc_auc_score : {2:.3f}\".format(C_value, np.round(accuracy_score(y_test, y_test_predict),3),np.round(roc_auc_score(y_test, y_test_predict),3)))\n",
        "  accuracy_score_list.append(np.round(accuracy_score(y_test, y_test_predict),3)) # make accuracy_score value list\n",
        "  roc_auc_score_list.append(np.round(roc_auc_score(y_test, y_test_predict),3)) # make roc_auc_score value list\n",
        "\n",
        "plt.plot(C_values, accuracy_score_list, marker='o')\n",
        "plt.plot(C_values, roc_auc_score_list, marker='o')\n",
        "plt.title('score value as we tweak C_value')\n",
        "plt.xlabel('C_value')\n",
        "plt.ylabel('Score value')\n",
        "plt.ylim(0.9, 1)\n",
        "plt.legend(['accuracy_score', 'roc_auc_score'])\n",
        "plt.show()"
      ],
      "metadata": {
        "colab": {
          "base_uri": "https://localhost:8080/",
          "height": 369
        },
        "id": "_icAT2ZYsbXp",
        "outputId": "8b69234c-d72e-494b-af51-0a98aff62273"
      },
      "execution_count": null,
      "outputs": [
        {
          "output_type": "stream",
          "name": "stdout",
          "text": [
            "when C is 0.0001, Test set accuracy score : 0.939, roc_auc_score : 0.936\n",
            "when C is 0.001, Test set accuracy score : 0.965, roc_auc_score : 0.958\n",
            "when C is 0.1, Test set accuracy score : 0.965, roc_auc_score : 0.958\n",
            "when C is 1, Test set accuracy score : 0.965, roc_auc_score : 0.958\n"
          ]
        },
        {
          "output_type": "display_data",
          "data": {
            "text/plain": [
              "<Figure size 432x288 with 1 Axes>"
            ],
            "image/png": "[encoded data removed]"
          },
          "metadata": {
            "needs_background": "light"
          }
        }
      ]
    },
    {
      "cell_type": "markdown",
      "source": [
        "## Among the C values above, score is the highest when C is 0.001, 0.1 or 1"
      ],
      "metadata": {
        "id": "DrYF9SSdtuOs"
      }
    },
    {
      "cell_type": "markdown",
      "source": [
        "## 2-3) Svm with kernels"
      ],
      "metadata": {
        "id": "_FPmNWXYj0vZ"
      }
    },
    {
      "cell_type": "code",
      "source": [
        "# Apply StandardScaler through Pipeline\n",
        "svm_kernels = Pipeline([\n",
        "                        (\"scaler\", StandardScaler()),\n",
        "                        (\"svm_with_kernels\", SVC(kernel = \"rbf\", C = 0.001, gamma = 5)) # let C = 0.001 and gamma = 5\n",
        "])\n",
        "\n",
        "# SVM with kernerls fit\n",
        "svm_kernels.fit(X_train, y_train)\n",
        "y_test_predict = svm_kernels.predict(X_test)\n",
        "\n",
        "print(\"Test set accuracy score : \", np.round(accuracy_score(y_test, y_test_predict),3))\n",
        "print(\"Test set roc_auc_score : \", np.round(roc_auc_score(y_test, y_test_predict),3))"
      ],
      "metadata": {
        "colab": {
          "base_uri": "https://localhost:8080/"
        },
        "id": "wpkQ1jcVtEtz",
        "outputId": "841bfb16-4256-4b83-b0cb-66639660e7af"
      },
      "execution_count": null,
      "outputs": [
        {
          "output_type": "stream",
          "name": "stdout",
          "text": [
            "Test set accuracy score :  0.579\n",
            "Test set roc_auc_score :  0.5\n"
          ]
        }
      ]
    },
    {
      "cell_type": "markdown",
      "source": [
        "## Let's look at how score value changes as we tweak **C value**\n"
      ],
      "metadata": {
        "id": "KhcsTDq1xEH9"
      }
    },
    {
      "cell_type": "code",
      "source": [
        "C_values = [0.0001, 0.001, 0.1, 1, 10]\n",
        "\n",
        "# for visualization\n",
        "accuracy_score_list = []\n",
        "roc_auc_score_list = []\n",
        "\n",
        "for C_value in C_values :\n",
        "  svm_kernels = Pipeline([\n",
        "                        (\"scaler\", StandardScaler()),\n",
        "                        (\"svm_with_kernels\", SVC(kernel = \"rbf\", C = C_value, gamma = 0.1))\n",
        "])\n",
        "  svm_kernels.fit(X_train, y_train)\n",
        "\n",
        "  y_test_predict = svm_kernels.predict(X_test)\n",
        "  print(\"when C is {0}, Test set accuracy score : {1:.3f}, roc_auc_score : {2:.3f}\".format(C_value, np.round(accuracy_score(y_test, y_test_predict),3),np.round(roc_auc_score(y_test, y_test_predict),3)))\n",
        "  accuracy_score_list.append(np.round(accuracy_score(y_test, y_test_predict),3)) # make accuracy_score value list\n",
        "  roc_auc_score_list.append(np.round(roc_auc_score(y_test, y_test_predict),3)) # make roc_auc_score value list\n",
        "\n",
        "plt.plot(C_values, accuracy_score_list, marker='o')\n",
        "plt.plot(C_values, roc_auc_score_list, marker='o')\n",
        "plt.title('score value as we tweak C_value (gamma = 0.1)')\n",
        "plt.xlabel('C_value')\n",
        "plt.ylabel('Score value')\n",
        "plt.ylim(0.8, 1)\n",
        "plt.legend(['accuracy_score', 'roc_auc_score'])\n",
        "plt.show()"
      ],
      "metadata": {
        "colab": {
          "base_uri": "https://localhost:8080/",
          "height": 388
        },
        "id": "NKITvmdvvprs",
        "outputId": "1c8af35a-58d2-4a55-8f82-303a7a15e2b9"
      },
      "execution_count": null,
      "outputs": [
        {
          "output_type": "stream",
          "name": "stdout",
          "text": [
            "when C is 0.0001, Test set accuracy score : 0.579, roc_auc_score : 0.500\n",
            "when C is 0.001, Test set accuracy score : 0.579, roc_auc_score : 0.500\n",
            "when C is 0.1, Test set accuracy score : 0.947, roc_auc_score : 0.938\n",
            "when C is 1, Test set accuracy score : 0.956, roc_auc_score : 0.951\n",
            "when C is 10, Test set accuracy score : 0.939, roc_auc_score : 0.933\n"
          ]
        },
        {
          "output_type": "display_data",
          "data": {
            "text/plain": [
              "<Figure size 432x288 with 1 Axes>"
            ],
            "image/png": "[encoded data removed]"
          },
          "metadata": {
            "needs_background": "light"
          }
        }
      ]
    },
    {
      "cell_type": "markdown",
      "source": [
        "## Among the C and gamma values above, score is the highest when C=1\n",
        "\n",
        "\n",
        "## Now, let's look at how score value changes as we tweak **gamma value**\n"
      ],
      "metadata": {
        "id": "5gqlnRKQIdI-"
      }
    },
    {
      "cell_type": "code",
      "source": [
        "gamma_values = [0.0001, 0.001, 0.1, 1]\n",
        "# for visualization\n",
        "accuracy_score_list = []\n",
        "roc_auc_score_list = []\n",
        "\n",
        "for gamma_value in gamma_values :\n",
        "  svm_kernels = Pipeline([\n",
        "                        (\"scaler\", StandardScaler()),\n",
        "                        (\"svm_with_kernels\", SVC(kernel = \"rbf\", C = 1, gamma = gamma_value))\n",
        "])\n",
        "  svm_kernels.fit(X_train, y_train)\n",
        "\n",
        "  y_test_predict = svm_kernels.predict(X_test)\n",
        "  print(\"when gamma is {0}, Test set accuracy score : {1:.3f}, roc_auc_score : {2:.3f}\".format(gamma_value, np.round(accuracy_score(y_test, y_test_predict),3),np.round(roc_auc_score(y_test, y_test_predict),3)))\n",
        "  accuracy_score_list.append(np.round(accuracy_score(y_test, y_test_predict),3)) # make accuracy_score value list\n",
        "  roc_auc_score_list.append(np.round(roc_auc_score(y_test, y_test_predict),3)) # make roc_auc_score value list\n",
        "\n",
        "plt.plot(gamma_values, accuracy_score_list, marker='o')\n",
        "plt.plot(gamma_values, roc_auc_score_list, marker='o')\n",
        "plt.title('score value as we tweak gamma (C = 1)')\n",
        "plt.xlabel('gamma')\n",
        "plt.ylabel('Score value')\n",
        "plt.ylim(0.5, 1)\n",
        "plt.legend(['accuracy_score', 'roc_auc_score'])\n",
        "plt.show()"
      ],
      "metadata": {
        "colab": {
          "base_uri": "https://localhost:8080/",
          "height": 368
        },
        "id": "Vb_uozBTIcym",
        "outputId": "430da59e-3825-4b14-bf3c-88599ef2e0c2"
      },
      "execution_count": null,
      "outputs": [
        {
          "output_type": "stream",
          "name": "stdout",
          "text": [
            "when gamma is 0.0001, Test set accuracy score : 0.754, roc_auc_score : 0.708\n",
            "when gamma is 0.001, Test set accuracy score : 0.939, roc_auc_score : 0.927\n",
            "when gamma is 0.1, Test set accuracy score : 0.956, roc_auc_score : 0.951\n",
            "when gamma is 1, Test set accuracy score : 0.579, roc_auc_score : 0.500\n"
          ]
        },
        {
          "output_type": "display_data",
          "data": {
            "text/plain": [
              "<Figure size 432x288 with 1 Axes>"
            ],
            "image/png": "[encoded data removed]"
          },
          "metadata": {
            "needs_background": "light"
          }
        }
      ]
    },
    {
      "cell_type": "markdown",
      "source": [
        "## Among the C and gamma values above, score is the highest when C=1 and gamma = 0.1"
      ],
      "metadata": {
        "id": "qEAUrErcxGB2"
      }
    }
  ]
}